{
 "cells": [
  {
   "cell_type": "code",
   "execution_count": 2,
   "id": "db522b28",
   "metadata": {},
   "outputs": [
    {
     "name": "stdout",
     "output_type": "stream",
     "text": [
      "Collecting pyspark\n",
      "  Downloading pyspark-3.2.1.tar.gz (281.4 MB)\n",
      "\u001b[K     |████████████████████████████████| 281.4 MB 10.2 MB/s eta 0:00:01    |███▋                            | 32.2 MB 12.6 MB/s eta 0:00:20     |█████▌                          | 48.0 MB 989 kB/s eta 0:03:56     |███████▎                        | 63.5 MB 2.4 MB/s eta 0:01:31     |████████▌                       | 74.6 MB 5.5 MB/s eta 0:00:38     |██████████▌                     | 91.9 MB 1.7 MB/s eta 0:01:53     |█████████████▊                  | 120.9 MB 8.3 MB/s eta 0:00:20     |█████████████████               | 149.6 MB 1.7 MB/s eta 0:01:17     |██████████████████              | 157.7 MB 6.9 MB/s eta 0:00:18     |██████████████████              | 158.6 MB 6.9 MB/s eta 0:00:18     |████████████████████▎           | 178.3 MB 7.0 MB/s eta 0:00:15     |████████████████████▌           | 180.6 MB 7.0 MB/s eta 0:00:15     |████████████████████████████▌   | 250.3 MB 13.1 MB/s eta 0:00:03     |████████████████████████████▌   | 250.9 MB 13.1 MB/s eta 0:00:03     |██████████████████████████████▎ | 266.6 MB 5.0 MB/s eta 0:00:03     |███████████████████████████████ | 272.4 MB 8.1 MB/s eta 0:00:02     |███████████████████████████████▊| 279.3 MB 10.2 MB/s eta 0:00:01\n",
      "\u001b[?25hCollecting py4j==0.10.9.3\n",
      "  Downloading py4j-0.10.9.3-py2.py3-none-any.whl (198 kB)\n",
      "\u001b[K     |████████████████████████████████| 198 kB 14.5 MB/s eta 0:00:01\n",
      "\u001b[?25hBuilding wheels for collected packages: pyspark\n",
      "  Building wheel for pyspark (setup.py) ... \u001b[?25ldone\n",
      "\u001b[?25h  Created wheel for pyspark: filename=pyspark-3.2.1-py2.py3-none-any.whl size=281853642 sha256=191fbec1231fe384081a2a8afe11cedbaadce067ba883ab4fcf78568f3f9754f\n",
      "  Stored in directory: /Users/junyuyao/Library/Caches/pip/wheels/52/45/50/69db7b6e1da74a1b9fcc097827db9185cb8627117de852731e\n",
      "Successfully built pyspark\n",
      "Installing collected packages: py4j, pyspark\n",
      "Successfully installed py4j-0.10.9.3 pyspark-3.2.1\n",
      "Note: you may need to restart the kernel to use updated packages.\n"
     ]
    }
   ],
   "source": [
    "pip install pyspark"
   ]
  },
  {
   "cell_type": "code",
   "execution_count": 7,
   "id": "c00c707e",
   "metadata": {},
   "outputs": [],
   "source": [
    "from pyspark import sql\n",
    "from pyspark.sql import functions as f, udf"
   ]
  },
  {
   "cell_type": "code",
   "execution_count": 3,
   "id": "ea6e9007",
   "metadata": {},
   "outputs": [
    {
     "name": "stdout",
     "output_type": "stream",
     "text": [
      "Requirement already satisfied: wget in /Users/junyuyao/opt/anaconda3/lib/python3.9/site-packages (3.2)\n",
      "Note: you may need to restart the kernel to use updated packages.\n"
     ]
    }
   ],
   "source": [
    "pip install wget"
   ]
  },
  {
   "cell_type": "code",
   "execution_count": 1,
   "id": "4fbb8f06",
   "metadata": {},
   "outputs": [],
   "source": [
    "import wget"
   ]
  },
  {
   "cell_type": "code",
   "execution_count": 5,
   "id": "dc5bf635",
   "metadata": {},
   "outputs": [],
   "source": [
    "# Download the data files from AWS \n",
    "!wget -q  https://s3.amazonaws.com/utcs378/flights.csv.bz2\n",
    "    \n",
    "!wget -q  https://s3.amazonaws.com/utcs378/airports.csv.bz2"
   ]
  },
  {
   "cell_type": "code",
   "execution_count": 11,
   "id": "49e1a8c9",
   "metadata": {},
   "outputs": [
    {
     "name": "stderr",
     "output_type": "stream",
     "text": [
      "22/05/22 20:15:04 WARN Utils: Your hostname, JunyudeMacBook-Pro.local resolves to a loopback address: 127.0.0.1; using 10.160.33.151 instead (on interface en0)\n",
      "22/05/22 20:15:04 WARN Utils: Set SPARK_LOCAL_IP if you need to bind to another address\n",
      "Using Spark's default log4j profile: org/apache/spark/log4j-defaults.properties\n",
      "Setting default log level to \"WARN\".\n",
      "To adjust logging level use sc.setLogLevel(newLevel). For SparkR, use setLogLevel(newLevel).\n",
      "22/05/22 20:15:05 WARN NativeCodeLoader: Unable to load native-hadoop library for your platform... using builtin-java classes where applicable\n",
      "                                                                                \r"
     ]
    }
   ],
   "source": [
    "sqlContext = sql.SparkSession.builder \\\n",
    "    .master(\"local\") \\\n",
    "    .appName(\"Flight DF\") \\\n",
    "    .getOrCreate()\n",
    "\n",
    "flights = sqlContext.read.format('csv')\\\n",
    "    .options(header='true', inferSchema='true')\\\n",
    "    .load(\"flights.csv.bz2\")\n",
    "\n",
    "airport = sqlContext.read.format('csv')\\\n",
    "    .options(header='true', inferSchema='true')\\\n",
    "    .load(\"airports.csv.bz2\")"
   ]
  },
  {
   "cell_type": "code",
   "execution_count": 12,
   "id": "44d9d729",
   "metadata": {},
   "outputs": [
    {
     "name": "stdout",
     "output_type": "stream",
     "text": [
      "root\n",
      " |-- YEAR: integer (nullable = true)\n",
      " |-- MONTH: integer (nullable = true)\n",
      " |-- DAY: integer (nullable = true)\n",
      " |-- DAY_OF_WEEK: integer (nullable = true)\n",
      " |-- AIRLINE: string (nullable = true)\n",
      " |-- FLIGHT_NUMBER: integer (nullable = true)\n",
      " |-- TAIL_NUMBER: string (nullable = true)\n",
      " |-- ORIGIN_AIRPORT: string (nullable = true)\n",
      " |-- DESTINATION_AIRPORT: string (nullable = true)\n",
      " |-- SCHEDULED_DEPARTURE: integer (nullable = true)\n",
      " |-- DEPARTURE_TIME: integer (nullable = true)\n",
      " |-- DEPARTURE_DELAY: integer (nullable = true)\n",
      " |-- TAXI_OUT: integer (nullable = true)\n",
      " |-- WHEELS_OFF: integer (nullable = true)\n",
      " |-- SCHEDULED_TIME: integer (nullable = true)\n",
      " |-- ELAPSED_TIME: integer (nullable = true)\n",
      " |-- AIR_TIME: integer (nullable = true)\n",
      " |-- DISTANCE: integer (nullable = true)\n",
      " |-- WHEELS_ON: integer (nullable = true)\n",
      " |-- TAXI_IN: integer (nullable = true)\n",
      " |-- SCHEDULED_ARRIVAL: integer (nullable = true)\n",
      " |-- ARRIVAL_TIME: integer (nullable = true)\n",
      " |-- ARRIVAL_DELAY: integer (nullable = true)\n",
      " |-- DIVERTED: integer (nullable = true)\n",
      " |-- CANCELLED: integer (nullable = true)\n",
      " |-- CANCELLATION_REASON: string (nullable = true)\n",
      " |-- AIR_SYSTEM_DELAY: integer (nullable = true)\n",
      " |-- SECURITY_DELAY: integer (nullable = true)\n",
      " |-- AIRLINE_DELAY: integer (nullable = true)\n",
      " |-- LATE_AIRCRAFT_DELAY: integer (nullable = true)\n",
      " |-- WEATHER_DELAY: integer (nullable = true)\n",
      "\n",
      "root\n",
      " |-- IATA_CODE: string (nullable = true)\n",
      " |-- AIRPORT: string (nullable = true)\n",
      " |-- CITY: string (nullable = true)\n",
      " |-- STATE: string (nullable = true)\n",
      " |-- COUNTRY: string (nullable = true)\n",
      " |-- LATITUDE: double (nullable = true)\n",
      " |-- LONGITUDE: double (nullable = true)\n",
      "\n"
     ]
    }
   ],
   "source": [
    "flights.printSchema()\n",
    "airport.printSchema()\n"
   ]
  },
  {
   "cell_type": "markdown",
   "id": "c77cd6e4",
   "metadata": {},
   "source": [
    "# Test"
   ]
  },
  {
   "cell_type": "markdown",
   "id": "bb40936b",
   "metadata": {},
   "source": [
    "## Q1 Find a list of Origin Airports"
   ]
  },
  {
   "cell_type": "code",
   "execution_count": 28,
   "id": "f85d514e",
   "metadata": {},
   "outputs": [
    {
     "name": "stderr",
     "output_type": "stream",
     "text": [
      "[Stage 47:=============================>                            (1 + 1) / 2]\r"
     ]
    },
    {
     "name": "stdout",
     "output_type": "stream",
     "text": [
      "+--------------+\n",
      "|ORIGIN_AIRPORT|\n",
      "+--------------+\n",
      "|           BGM|\n",
      "|           PSE|\n",
      "|           INL|\n",
      "|           DLG|\n",
      "|         12888|\n",
      "|           MSY|\n",
      "|           PPG|\n",
      "|         12003|\n",
      "|         15041|\n",
      "|           GEG|\n",
      "+--------------+\n",
      "only showing top 10 rows\n",
      "\n"
     ]
    },
    {
     "name": "stderr",
     "output_type": "stream",
     "text": [
      "\r",
      "                                                                                \r"
     ]
    }
   ],
   "source": [
    "#Q1 Find a list of Origin Airports\n",
    "flights.select(\"ORIGIN_AIRPORT\").distinct().show(10)\n"
   ]
  },
  {
   "cell_type": "markdown",
   "id": "fd49ca1c",
   "metadata": {},
   "source": [
    "## Q2 Find a list of (Origin, Destination) pairs"
   ]
  },
  {
   "cell_type": "code",
   "execution_count": 14,
   "id": "d69ff922",
   "metadata": {},
   "outputs": [
    {
     "name": "stderr",
     "output_type": "stream",
     "text": [
      "[Stage 7:=============================>                             (1 + 1) / 2]\r"
     ]
    },
    {
     "name": "stdout",
     "output_type": "stream",
     "text": [
      "+--------------+-------------------+\n",
      "|ORIGIN_AIRPORT|DESTINATION_AIRPORT|\n",
      "+--------------+-------------------+\n",
      "|           BQN|                MCO|\n",
      "|           PHL|                MCO|\n",
      "|           MCI|                IAH|\n",
      "|           SPI|                ORD|\n",
      "|           SNA|                PHX|\n",
      "|           LBB|                DEN|\n",
      "|           ORD|                PDX|\n",
      "|           EWR|                STT|\n",
      "|           ATL|                GSP|\n",
      "|           MCI|                MKE|\n",
      "|           PBI|                DCA|\n",
      "|           SMF|                BUR|\n",
      "|           MDW|                MEM|\n",
      "|           LAS|                LIT|\n",
      "|           TPA|                ACY|\n",
      "|           DSM|                EWR|\n",
      "|           FSD|                ATL|\n",
      "|           SJC|                LIH|\n",
      "|           CLE|                SJU|\n",
      "|         11298|              11057|\n",
      "+--------------+-------------------+\n",
      "only showing top 20 rows\n",
      "\n"
     ]
    },
    {
     "name": "stderr",
     "output_type": "stream",
     "text": [
      "\r",
      "                                                                                \r"
     ]
    }
   ],
   "source": [
    "#Q2 Find a list of (Origin, Destination) pairs\n",
    "flights.select(\"ORIGIN_AIRPORT\", \"DESTINATION_AIRPORT\").distinct().show()"
   ]
  },
  {
   "cell_type": "markdown",
   "id": "52192afb",
   "metadata": {},
   "source": [
    "## Q3 Find the Origin airport which had the largest departure delay in the month of January"
   ]
  },
  {
   "cell_type": "code",
   "execution_count": 15,
   "id": "755a285e",
   "metadata": {},
   "outputs": [
    {
     "name": "stderr",
     "output_type": "stream",
     "text": [
      "[Stage 10:=============================>                            (1 + 1) / 2]\r"
     ]
    },
    {
     "name": "stdout",
     "output_type": "stream",
     "text": [
      "+--------------+\n",
      "|ORIGIN_AIRPORT|\n",
      "+--------------+\n",
      "|           BHM|\n",
      "+--------------+\n",
      "\n"
     ]
    },
    {
     "name": "stderr",
     "output_type": "stream",
     "text": [
      "\r",
      "                                                                                \r"
     ]
    }
   ],
   "source": [
    "#Q3 Find the Origin airport which had the largest departure delay in the month of January\n",
    "flights.where(flights.MONTH == 1)\\\n",
    "    .orderBy(\"DEPARTURE_DELAY\", ascending=False)\\\n",
    "    .limit(1)\\\n",
    "    .select(\"ORIGIN_AIRPORT\")\\\n",
    "    .show()"
   ]
  },
  {
   "cell_type": "markdown",
   "id": "e0e144c7",
   "metadata": {},
   "source": [
    "## Q4 Find out which carrier has the largest delay on Weekends."
   ]
  },
  {
   "cell_type": "code",
   "execution_count": 16,
   "id": "53ef4df5",
   "metadata": {},
   "outputs": [
    {
     "name": "stderr",
     "output_type": "stream",
     "text": [
      "[Stage 11:=============================>                            (1 + 1) / 2]\r"
     ]
    },
    {
     "name": "stdout",
     "output_type": "stream",
     "text": [
      "+-------+\n",
      "|AIRLINE|\n",
      "+-------+\n",
      "|     AA|\n",
      "+-------+\n",
      "\n"
     ]
    },
    {
     "name": "stderr",
     "output_type": "stream",
     "text": [
      "\r",
      "                                                                                \r"
     ]
    }
   ],
   "source": [
    "#Q4 Find out which carrier has the largest delay on Weekends. \n",
    "flights.filter(\"DAY_OF_WEEK = 6 OR DAY_OF_WEEK = 7\" )\\\n",
    "    .orderBy(\"DEPARTURE_DELAY\", ascending=False)\\\n",
    "    .limit(1)\\\n",
    "    .select(\"AIRLINE\")\\\n",
    "    .show()"
   ]
  },
  {
   "cell_type": "markdown",
   "id": "e0e2ccea",
   "metadata": {},
   "source": [
    "## Q5 Which airport has the most cancellation of flights?"
   ]
  },
  {
   "cell_type": "code",
   "execution_count": 17,
   "id": "4b4e8b6d",
   "metadata": {},
   "outputs": [
    {
     "name": "stderr",
     "output_type": "stream",
     "text": [
      "[Stage 12:=============================>                            (1 + 1) / 2]\r"
     ]
    },
    {
     "name": "stdout",
     "output_type": "stream",
     "text": [
      "+--------------+-----+\n",
      "|ORIGIN_AIRPORT|COUNT|\n",
      "+--------------+-----+\n",
      "|           ORD| 8548|\n",
      "+--------------+-----+\n",
      "\n"
     ]
    },
    {
     "name": "stderr",
     "output_type": "stream",
     "text": [
      "\r",
      "                                                                                \r"
     ]
    }
   ],
   "source": [
    "#Q5 Which airport has the most cancellation of flights?\n",
    "flights.filter(\"CANCELLED = 1\")\\\n",
    "    .withColumn(\"COUNT\", f.lit(1))\\\n",
    "    .groupBy(\"ORIGIN_AIRPORT\")\\\n",
    "    .agg(f.sum(\"COUNT\").alias(\"COUNT\"))\\\n",
    "    .orderBy(\"COUNT\", ascending=False)\\\n",
    "    .limit(1)\\\n",
    "    .select(\"ORIGIN_AIRPORT\", \"COUNT\")\\\n",
    "    .show()"
   ]
  },
  {
   "cell_type": "markdown",
   "id": "5acfa135",
   "metadata": {},
   "source": [
    "## Q6 Find the percent of flights cancelled for each carrier."
   ]
  },
  {
   "cell_type": "code",
   "execution_count": 19,
   "id": "cd26d3f7",
   "metadata": {},
   "outputs": [
    {
     "name": "stderr",
     "output_type": "stream",
     "text": [
      "[Stage 15:=============================>                            (1 + 1) / 2]\r"
     ]
    },
    {
     "name": "stdout",
     "output_type": "stream",
     "text": [
      "+-------+---------------+-------+-------------------+\n",
      "|AIRLINE|TOTAL_CANCELLED|  TOTAL|        CANCEL_RATE|\n",
      "+-------+---------------+-------+-------------------+\n",
      "|     UA|           6573| 515723|  1.274521400053905|\n",
      "|     NK|           2004| 117379| 1.7072900604026275|\n",
      "|     AA|          10919| 725984| 1.5040276369727157|\n",
      "|     EV|          15231| 571977| 2.6628693111785964|\n",
      "|     B6|           4276| 267048| 1.6012102693148795|\n",
      "|     DL|           3824| 875881| 0.4365889886868193|\n",
      "|     OO|           9960| 588353| 1.6928612584621818|\n",
      "|     F9|            588|  90836| 0.6473204456382932|\n",
      "|     US|           4067| 198715| 2.0466497244797823|\n",
      "|     MQ|          15025| 294632| 5.0995818512585185|\n",
      "|     HA|            171|  76272|0.22419760855884205|\n",
      "|     AS|            669| 172521|   0.38777887909298|\n",
      "|     VX|            534|  61903| 0.8626399366751207|\n",
      "|     WN|          16043|1261855| 1.2713822111098343|\n",
      "+-------+---------------+-------+-------------------+\n",
      "\n"
     ]
    },
    {
     "name": "stderr",
     "output_type": "stream",
     "text": [
      "\r",
      "                                                                                \r"
     ]
    }
   ],
   "source": [
    "#Q6 Find the percent of flights cancelled for each carrier.\n",
    "flights.withColumn(\"TOTAL\", f.lit(1))\\\n",
    "    .groupBy(\"AIRLINE\")\\\n",
    "    .agg(f.sum(\"CANCELLED\").alias(\"TOTAL_CANCELLED\"), f.sum(\"TOTAL\").alias(\"TOTAL\"))\\\n",
    "    .withColumn(\"CANCEL_RATE\", f.col(\"TOTAL_CANCELLED\")/f.col(\"TOTAL\")*100)\\\n",
    "    .show()"
   ]
  },
  {
   "cell_type": "markdown",
   "id": "94dc8192",
   "metadata": {},
   "source": [
    "## Q7 Find the largest departure delay for each carrier"
   ]
  },
  {
   "cell_type": "code",
   "execution_count": 20,
   "id": "ceb6d619",
   "metadata": {},
   "outputs": [
    {
     "name": "stderr",
     "output_type": "stream",
     "text": [
      "[Stage 18:=============================>                            (1 + 1) / 2]\r"
     ]
    },
    {
     "name": "stdout",
     "output_type": "stream",
     "text": [
      "+-------+-------------------+\n",
      "|AIRLINE|MAX_DEPARTURE_DELAY|\n",
      "+-------+-------------------+\n",
      "|     UA|               1314|\n",
      "|     NK|                836|\n",
      "|     AA|               1988|\n",
      "|     EV|               1274|\n",
      "|     B6|               1006|\n",
      "|     DL|               1289|\n",
      "|     OO|               1378|\n",
      "|     F9|               1112|\n",
      "|     US|                759|\n",
      "|     MQ|               1544|\n",
      "|     HA|               1433|\n",
      "|     AS|                963|\n",
      "|     VX|                644|\n",
      "|     WN|                665|\n",
      "+-------+-------------------+\n",
      "\n"
     ]
    },
    {
     "name": "stderr",
     "output_type": "stream",
     "text": [
      "\r",
      "                                                                                \r"
     ]
    }
   ],
   "source": [
    "#Q7 Find the largest departure delay for each carrier\n",
    "flights.groupBy(\"AIRLINE\")\\\n",
    "    .agg(f.max(\"DEPARTURE_DELAY\").alias(\"MAX_DEPARTURE_DELAY\"))\\\n",
    "    .show()"
   ]
  },
  {
   "cell_type": "markdown",
   "id": "13919ebf",
   "metadata": {},
   "source": [
    "## Q8 Find the largest departure delay for each carrier for each month"
   ]
  },
  {
   "cell_type": "code",
   "execution_count": 21,
   "id": "76c1c5da",
   "metadata": {},
   "outputs": [
    {
     "name": "stderr",
     "output_type": "stream",
     "text": [
      "[Stage 21:=============================>                            (1 + 1) / 2]\r"
     ]
    },
    {
     "name": "stdout",
     "output_type": "stream",
     "text": [
      "+-------+-----+-------------------+\n",
      "|AIRLINE|MONTH|MAX_DEPARTURE_DELAY|\n",
      "+-------+-----+-------------------+\n",
      "|     NK|   11|                476|\n",
      "|     VX|   10|                430|\n",
      "|     UA|   12|               1194|\n",
      "|     HA|   10|               1022|\n",
      "|     OO|    3|                874|\n",
      "|     OO|    4|                878|\n",
      "|     OO|    9|                893|\n",
      "|     F9|    2|                852|\n",
      "|     F9|   12|                781|\n",
      "|     HA|    5|                326|\n",
      "|     UA|    4|               1314|\n",
      "|     MQ|   10|               1544|\n",
      "|     HA|   12|               1095|\n",
      "|     EV|    4|                757|\n",
      "|     DL|    6|               1201|\n",
      "|     DL|    3|               1166|\n",
      "|     DL|    8|               1207|\n",
      "|     B6|    6|                507|\n",
      "|     DL|   10|               1120|\n",
      "|     OO|   10|               1122|\n",
      "+-------+-----+-------------------+\n",
      "only showing top 20 rows\n",
      "\n"
     ]
    },
    {
     "name": "stderr",
     "output_type": "stream",
     "text": [
      "\r",
      "                                                                                \r"
     ]
    }
   ],
   "source": [
    "#Q8 Find the largest departure delay for each carrier for each month\n",
    "flights.groupBy(\"AIRLINE\", \"MONTH\")\\\n",
    "    .agg(f.max(\"DEPARTURE_DELAY\").alias(\"MAX_DEPARTURE_DELAY\"))\\\n",
    "    .show()"
   ]
  },
  {
   "cell_type": "markdown",
   "id": "bc20856b",
   "metadata": {},
   "source": [
    "## Q9 For each carrier find the average Departure delay"
   ]
  },
  {
   "cell_type": "code",
   "execution_count": 22,
   "id": "460f2f42",
   "metadata": {},
   "outputs": [
    {
     "name": "stderr",
     "output_type": "stream",
     "text": [
      "[Stage 24:=============================>                            (1 + 1) / 2]\r"
     ]
    },
    {
     "name": "stdout",
     "output_type": "stream",
     "text": [
      "+-------+---------------------+-------+-------------------+\n",
      "|AIRLINE|TOTAL_DEPARTURE_DELAY|  TOTAL|AVG_DEPARTURE_DELAY|\n",
      "+-------+---------------------+-------+-------------------+\n",
      "|     UA|              7355348| 515723|  14.26220664969373|\n",
      "|     NK|              1840887| 117379|  15.68327383944317|\n",
      "|     AA|              6369435| 725984|  8.773519802089302|\n",
      "|     EV|              4857338| 571977|   8.49219111957299|\n",
      "|     B6|              3026467| 267048| 11.333044995656211|\n",
      "|     DL|              6427294| 875881|  7.338090448359994|\n",
      "|     OO|              4517510| 588353|   7.67823058605973|\n",
      "|     F9|              1205449|  90836|  13.27060856928971|\n",
      "|     US|              1196447| 198715| 6.0209194071912036|\n",
      "|     MQ|              2837908| 294632|   9.63204268375465|\n",
      "|     HA|                36972|  76272|0.48473882945248586|\n",
      "|     AS|               306997| 172521| 1.7794761217474975|\n",
      "|     VX|               553852|  61903|  8.947094648078446|\n",
      "|     WN|             13186520|1261855| 10.450107183471951|\n",
      "+-------+---------------------+-------+-------------------+\n",
      "\n"
     ]
    },
    {
     "name": "stderr",
     "output_type": "stream",
     "text": [
      "\r",
      "                                                                                \r"
     ]
    }
   ],
   "source": [
    "\n",
    "#Q9 For each carrier find the average Departure delay\n",
    "flights.withColumn(\"TOTAL\", f.lit(1))\\\n",
    "    .groupBy(\"AIRLINE\")\\\n",
    "    .agg(f.sum(\"DEPARTURE_DELAY\").alias(\"TOTAL_DEPARTURE_DELAY\"), f.sum(\"TOTAL\").alias(\"TOTAL\"))\\\n",
    "    .withColumn(\"AVG_DEPARTURE_DELAY\", f.col(\"TOTAL_DEPARTURE_DELAY\")/f.col(\"TOTAL\"))\\\n",
    "    .show()"
   ]
  },
  {
   "cell_type": "markdown",
   "id": "2f1ddfe3",
   "metadata": {},
   "source": [
    "## Q10 For each carrier find the average Departure delay for each month"
   ]
  },
  {
   "cell_type": "code",
   "execution_count": 23,
   "id": "012c46e2",
   "metadata": {},
   "outputs": [
    {
     "name": "stderr",
     "output_type": "stream",
     "text": [
      "[Stage 27:=============================>                            (1 + 1) / 2]\r"
     ]
    },
    {
     "name": "stdout",
     "output_type": "stream",
     "text": [
      "+-------+-----+-------------------+\n",
      "|AIRLINE|MONTH|AVG_DEPARTURE_DELAY|\n",
      "+-------+-----+-------------------+\n",
      "|     NK|   11|  8.559720582447856|\n",
      "|     VX|   10|  7.053440702781844|\n",
      "|     UA|   12|  17.51819625716456|\n",
      "|     HA|   10| 0.1680551105414931|\n",
      "|     OO|    3|  5.789528335796158|\n",
      "|     OO|    4|  5.276855399460763|\n",
      "|     OO|    9| 3.8390551181102364|\n",
      "|     F9|    2| 25.258564296780857|\n",
      "|     F9|   12|  15.89396551724138|\n",
      "|     HA|    5|-1.3484612993472178|\n",
      "|     UA|    4| 12.880508925547868|\n",
      "|     MQ|   10| 3.4174779364934946|\n",
      "|     HA|   12|-0.4426517571884984|\n",
      "|     EV|    4|  6.673949204803635|\n",
      "|     DL|    6| 10.844916186654585|\n",
      "|     DL|    3|  8.386646172100424|\n",
      "|     DL|    8|   7.74069452851866|\n",
      "|     B6|    6|  11.31625144073056|\n",
      "|     DL|   10| 3.2151895383312157|\n",
      "|     OO|   10| 3.6338714964759875|\n",
      "+-------+-----+-------------------+\n",
      "only showing top 20 rows\n",
      "\n"
     ]
    },
    {
     "name": "stderr",
     "output_type": "stream",
     "text": [
      "\r",
      "                                                                                \r"
     ]
    }
   ],
   "source": [
    "#Q10 For each carrier find the average Departure delay for each month\n",
    "flights.withColumn(\"TOTAL\", f.lit(1))\\\n",
    "    .groupBy(\"AIRLINE\",\"MONTH\")\\\n",
    "    .agg(f.sum(\"DEPARTURE_DELAY\").alias(\"TOTAL_DEPARTURE_DELAY\"), f.sum(\"TOTAL\").alias(\"TOTAL\"))\\\n",
    "    .withColumn(\"AVG_DEPARTURE_DELAY\", f.col(\"TOTAL_DEPARTURE_DELAY\")/f.col(\"TOTAL\"))\\\n",
    "    .select(\"AIRLINE\", \"MONTH\", \"AVG_DEPARTURE_DELAY\")\\\n",
    "    .show()"
   ]
  },
  {
   "cell_type": "markdown",
   "id": "4709657e",
   "metadata": {},
   "source": [
    "## Q11 Which date of year has the highest rate of flight cancellations? Rate of flight cancellation is calculated by deviding number of canceled flights by total number of flights."
   ]
  },
  {
   "cell_type": "code",
   "execution_count": 24,
   "id": "6a8c02b5",
   "metadata": {},
   "outputs": [
    {
     "name": "stderr",
     "output_type": "stream",
     "text": [
      "[Stage 30:=============================>                            (1 + 1) / 2]\r"
     ]
    },
    {
     "name": "stdout",
     "output_type": "stream",
     "text": [
      "+----+-----+---+\n",
      "|YEAR|MONTH|DAY|\n",
      "+----+-----+---+\n",
      "|2015|    1| 27|\n",
      "+----+-----+---+\n",
      "\n"
     ]
    },
    {
     "name": "stderr",
     "output_type": "stream",
     "text": [
      "\r",
      "                                                                                \r"
     ]
    }
   ],
   "source": [
    "#Q11 Which date of year has the highest rate  of flight cancellations?\n",
    "# Rate of flight cancellation is calculated by deviding number of canceled flights by total number of flights.\n",
    "\n",
    "flights.withColumn(\"TOTAL\", f.lit(1))\\\n",
    "    .groupBy(\"YEAR\",\"MONTH\",\"DAY\")\\\n",
    "    .agg(f.sum(\"CANCELLED\").alias(\"TOTAL_CANCELLED\"), f.sum(\"TOTAL\").alias(\"TOTAL\"))\\\n",
    "    .withColumn(\"CANCEL_RATE\", f.col(\"TOTAL_CANCELLED\")/f.col(\"TOTAL\")*100)\\\n",
    "    .orderBy(\"CANCEL_RATE\", ascending=False)\\\n",
    "    .limit(1)\\\n",
    "    .select(\"YEAR\",\"MONTH\",\"DAY\")\\\n",
    "    .show()"
   ]
  },
  {
   "cell_type": "markdown",
   "id": "b7e8a2f4",
   "metadata": {},
   "source": [
    "## Q12 Calculate the number of flights to each destination state For each carrier, for which state do they have the largest average delay?"
   ]
  },
  {
   "cell_type": "code",
   "execution_count": 27,
   "id": "241e8186",
   "metadata": {},
   "outputs": [
    {
     "name": "stderr",
     "output_type": "stream",
     "text": [
      "                                                                                \r"
     ]
    },
    {
     "name": "stdout",
     "output_type": "stream",
     "text": [
      "+-------+------------------+\n",
      "|AIRLINE|MAX_AVGDELAY_STATE|\n",
      "+-------+------------------+\n",
      "|     UA|                IL|\n",
      "|     NK|                IL|\n",
      "|     AA|                TX|\n",
      "|     EV|                GA|\n",
      "|     B6|                NY|\n",
      "|     DL|                GA|\n",
      "|     OO|                IL|\n",
      "|     F9|                CO|\n",
      "|     US|                NC|\n",
      "|     MQ|                IL|\n",
      "|     HA|                HI|\n",
      "|     AS|                WA|\n",
      "|     VX|                CA|\n",
      "|     WN|                IL|\n",
      "+-------+------------------+\n",
      "\n"
     ]
    }
   ],
   "source": [
    "#Q12 Calculate the number of flights to each destination state\n",
    "# For each carrier, for which state do they have the largest average delay? \n",
    "# You will need the airline and airport data sets for this question.\n",
    "\n",
    "from pyspark.sql.types import ArrayType, IntegerType, StringType\n",
    "from pyspark.sql.functions import udf\n",
    "fold_list = udf(lambda x,y: sorted(zip(x,y))[-1][1],StringType())\n",
    "\n",
    "#Q8 Find the largest departure delay for each carrier for each month\n",
    "flights.withColumn(\"COUNT\", f.lit(1))\\\n",
    "    .groupBy(\"AIRLINE\", \"DESTINATION_AIRPORT\")\\\n",
    "    .agg(f.sum(\"DEPARTURE_DELAY\").alias(\"TOTAL_DEPARTURE_DELAY\"),f.sum(\"COUNT\").alias(\"COUNT\"))\\\n",
    "    .withColumn(\"DEPARTURE_AVG_DELAY\", f.col(\"TOTAL_DEPARTURE_DELAY\")/f.col(\"COUNT\"))\\\n",
    "    .join(airport, flights.DESTINATION_AIRPORT == airport.IATA_CODE)\\\n",
    "    .select(\"AIRLINE\", \"TOTAL_DEPARTURE_DELAY\", \"STATE\")\\\n",
    "    .groupBy(\"AIRLINE\")\\\n",
    "    .agg(\n",
    "        f.collect_list(\"TOTAL_DEPARTURE_DELAY\").alias(\"delay\"),\n",
    "        f.collect_list(\"STATE\").alias(\"state\")\n",
    "    )\\\n",
    "    .withColumn(\"MAX_AVGDELAY_STATE\", fold_list(f.col(\"delay\"), f.col(\"state\")))\\\n",
    "    .select(\"AIRLINE\", \"MAX_AVGDELAY_STATE\")\\\n",
    "    .show()"
   ]
  },
  {
   "cell_type": "code",
   "execution_count": null,
   "id": "c912bcc7",
   "metadata": {},
   "outputs": [],
   "source": []
  }
 ],
 "metadata": {
  "kernelspec": {
   "display_name": "Python 3 (ipykernel)",
   "language": "python",
   "name": "python3"
  },
  "language_info": {
   "codemirror_mode": {
    "name": "ipython",
    "version": 3
   },
   "file_extension": ".py",
   "mimetype": "text/x-python",
   "name": "python",
   "nbconvert_exporter": "python",
   "pygments_lexer": "ipython3",
   "version": "3.9.7"
  }
 },
 "nbformat": 4,
 "nbformat_minor": 5
}
